{
  "nbformat": 4,
  "nbformat_minor": 0,
  "metadata": {
    "colab": {
      "name": "MachineLearningAssignSqrt.ipynb",
      "provenance": [],
      "collapsed_sections": []
    },
    "kernelspec": {
      "name": "python3",
      "display_name": "Python 3"
    }
  },
  "cells": [
    {
      "cell_type": "code",
      "metadata": {
        "id": "ujN_9sa-uV4J",
        "outputId": "e817401d-6b43-4129-ee00-a03a6e1ce606",
        "colab": {
          "base_uri": "https://localhost:8080/",
          "height": 34
        }
      },
      "source": [
        "#Adapted from https://stackoverflow.com/questions/3047012/how-to-perform-square-root-without-using-math-module\n",
        "\n",
        "10**(1/2)+\n"
      ],
      "execution_count": 2,
      "outputs": [
        {
          "output_type": "execute_result",
          "data": {
            "text/plain": [
              "3.1622776601683795"
            ]
          },
          "metadata": {
            "tags": []
          },
          "execution_count": 2
        }
      ]
    },
    {
      "cell_type": "code",
      "metadata": {
        "id": "eJce3vroy-hV",
        "outputId": "086cfed7-ecf9-4361-ab8e-e3a71d05b284",
        "colab": {
          "base_uri": "https://localhost:8080/",
          "height": 51
        }
      },
      "source": [
        "#Adapted from https://www.sololearn.com/Discuss/2228331/how-can-we-calculate-square-root-without-using-any-built-in-function-in-python\n",
        "x=int(input(\"enter numnber.\"))\n",
        "y=x**0.5\n",
        "print(x)"
      ],
      "execution_count": 27,
      "outputs": [
        {
          "output_type": "stream",
          "text": [
            "enter numnber.10\n",
            "10\n"
          ],
          "name": "stdout"
        }
      ]
    }
  ]
}