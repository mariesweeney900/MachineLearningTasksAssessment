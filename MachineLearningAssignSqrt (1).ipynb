{
  "nbformat": 4,
  "nbformat_minor": 0,
  "metadata": {
    "colab": {
      "name": "MachineLearningAssignSqrt.ipynb",
      "provenance": [],
      "collapsed_sections": []
    },
    "kernelspec": {
      "name": "python3",
      "display_name": "Python 3"
    }
  },
  "cells": [
    {
      "cell_type": "code",
      "metadata": {
        "id": "ujN_9sa-uV4J",
        "outputId": "3b04df52-f7f6-464f-eba1-7507f905e699",
        "colab": {
          "base_uri": "https://localhost:8080/"
        }
      },
      "source": [
        "#Adapted from https://stackoverflow.com/questions/3047012/how-to-perform-square-root-without-using-math-module\n",
        "#The below algorithm finds the square root of number without using the math module by using the power operator and raising the number to the half power]\n",
        "\n",
        "round(2**(1/2), 100)\n"
      ],
      "execution_count": 14,
      "outputs": [
        {
          "output_type": "execute_result",
          "data": {
            "text/plain": [
              "1.4142135623730951"
            ]
          },
          "metadata": {
            "tags": []
          },
          "execution_count": 14
        }
      ]
    }
  ]
}