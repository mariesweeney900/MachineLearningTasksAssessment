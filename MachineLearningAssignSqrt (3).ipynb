{
  "nbformat": 4,
  "nbformat_minor": 0,
  "metadata": {
    "colab": {
      "name": "MachineLearningAssignSqrt.ipynb",
      "provenance": [],
      "collapsed_sections": []
    },
    "kernelspec": {
      "name": "python3",
      "display_name": "Python 3"
    }
  },
  "cells": [
    {
      "cell_type": "code",
      "metadata": {
        "id": "ujN_9sa-uV4J",
        "colab": {
          "base_uri": "https://localhost:8080/"
        },
        "outputId": "535f565e-5949-490b-c678-19c2e9369fb0"
      },
      "source": [
        "#Adapted from https://stackoverflow.com/questions/3047012/how-to-perform-square-root-without-using-math-module\n",
        "#The below algorithm finds the square root of number without using the math module by using the power operator and raising the number to the half power\n",
        "\n",
        "round(2**(1/2), 100)\n"
      ],
      "execution_count": null,
      "outputs": [
        {
          "output_type": "execute_result",
          "data": {
            "text/plain": [
              "1.4142135623730951"
            ]
          },
          "metadata": {
            "tags": []
          },
          "execution_count": 17
        }
      ]
    },
    {
      "cell_type": "code",
      "metadata": {
        "colab": {
          "base_uri": "https://localhost:8080/"
        },
        "id": "JCFd0aT_ZxQO",
        "outputId": "1f979da4-f604-46bc-e761-3643f7b13c0a"
      },
      "source": [
        "# Python Program to calculate the square root\n",
        "# https://www.programiz.com/python-programming/examples/square-root\n",
        "#In this program, we store the number in num and find the square root using the ** exponent operator. \n",
        "# Modify the below value for an algorithm\n",
        "num = 2\n",
        "\n",
        "# Accepts input from the user\n",
        "#num = float(input('Enter a number: '))\n",
        "\n",
        "num_sqrt = num ** 0.5\n",
        "print('The square root of %0.0f is %0.100f'%(round(num), num_sqrt))"
      ],
      "execution_count": null,
      "outputs": [
        {
          "output_type": "stream",
          "text": [
            "The square root of 2 is 1.4142135623730951454746218587388284504413604736328125000000000000000000000000000000000000000000000000\n"
          ],
          "name": "stdout"
        }
      ]
    },
    {
      "cell_type": "code",
      "metadata": {
        "id": "vcVtU_9OcK5X"
      },
      "source": [
        ""
      ],
      "execution_count": null,
      "outputs": []
    }
  ]
}