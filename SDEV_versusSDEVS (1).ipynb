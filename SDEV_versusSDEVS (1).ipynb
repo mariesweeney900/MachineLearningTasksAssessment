{
  "nbformat": 4,
  "nbformat_minor": 0,
  "metadata": {
    "colab": {
      "name": "SDEV_versusSDEVS.ipynb",
      "provenance": [],
      "collapsed_sections": []
    },
    "kernelspec": {
      "name": "python3",
      "display_name": "Python 3"
    }
  },
  "cells": [
    {
      "cell_type": "markdown",
      "metadata": {
        "id": "ftz2ASYK1MoV"
      },
      "source": [
        "Adapted from http://mathbitsnotebook.com/Algebra1/StatisticsData/STPopSample.html\n",
        "and https://likegeeks.com/python-standard-deviation/\n",
        " \n",
        " \n",
        "In assessing statistical data, it is pertinent to differentiate between\n",
        "\"population\" data and \"sample\" data. A population data set incorporates all members of a certain grouping, i.e all values, or count (n). Every person living in the US is an example. A sample data set includes a part, or a part of, the population. The proportion of a sample is always less than the proportion of the population from the selection, i.e (n - 1). It can be said that this would represent some of the people living in the US.\n",
        " \n",
        " \n",
        "When one is calculating standard deviation, the difference being noted between the sample and the population is paramount as for example utilising only a sample of the data may lead one to make generalisations in error regarding the full population set.\n",
        " \n",
        "The standard deviation permits the measurement of how spread out numbers in a data set are and how apart from the mean value they are.\n",
        "Adapted from http://mathbitsnotebook.com/Algebra1/StatisticsData/STPopSample.html\n",
        "and https://likegeeks.com/python-standard-deviation/\n",
        " \n",
        " \n",
        "In assessing statistical data, it is pertinent to differentiate between\n",
        "\"population\" data and \"sample\" data. A population data set incorporates all members of a certain grouping, i.e all values, or count (n). Every person living in the US is an example. A sample data set includes a part, or a part of, the population. The proportion of a sample is always less than the proportion of the population from the selection, i.e (n - 1). It can be said that this would represent some of the people living in the US.\n",
        " \n",
        " \n",
        "When one is calculating standard deviation, the difference being noted between the sample and the population is paramount as for example utilising only a sample of the data may lead one to make generalisations in error regarding the full population set. \n",
        " \n",
        "The standard deviation permits the measurement of how spread out numbers in a data set are and how apart from the mean value they are.\n"
      ]
    },
    {
      "cell_type": "markdown",
      "metadata": {
        "id": "Q2etZ1FE11Y6"
      },
      "source": [
        "Adapted from https://stackoverflow.com/questions/34133939/is-there-any-difference-between-numpy-std-and-excel-stdev-function\n",
        "STDEV estimates the population's standard deviation using the sample information, but STDEVP estimates the sample's standard deviation, which is the population's if it represents the entire population. In python3.4 the statistics module as part of the standard library. Statistics.stdev() is used for the sample standard deviation and statistics.pstdev() is used for the population standard deviation."
      ]
    },
    {
      "cell_type": "markdown",
      "metadata": {
        "id": "TEcfB_gG15yj"
      },
      "source": [
        "Adapted from https://www.exceltip.com/statistical-formulas/how-to-use-excel-stdev-p-function.html\n",
        "STDEV.P function incorporates entire data, and certain points may skew the result sof the standard tandard deviation, also the standard deviation will be taken everyone in data, including minorities, this is known as Biased Analysis. This is why this standard deviation is identified to use only when an analysis is non-destructive. The STDEV.S or STDEV function is used on a reduced sample of the full population, and we subtract one from the denominator, also known as the number of samples arguments. This is known as non-biassed analysis of standard deviation. This is utilised when an analysis is destructive."
      ]
    },
    {
      "cell_type": "markdown",
      "metadata": {
        "id": "7jLfsxjM2PXl"
      },
      "source": [
        "https://www.exceltip.com/statistical-formulas/how-to-use-the-stdev-function-in-excel.html\n",
        "Show how to display STDEV manually in Excel and variation of STDEV.S and STDEV.P function\n",
        "Excel offers two functions to calculate in standard deviation. STDEV.P and STDEV.S.\n",
        "\n",
        "STDEV.P is used to show standard deviation, when you have chosen whole population data.\n",
        "\n",
        "When you have a sample of the larger data, you should adopt the STDEV.S function. When adopted, it is more accurate than standard deviation of population (STDEV.P).\n",
        "\n",
        "If you estimate standard deviation on same data, using STDEV.S and STDEV.P. The STDEV.S will produce a larger standard deviation. The standard deviation of a sample calculates probability of error and subtracts 1 denominator or number of observations. This is known as Bessel’s Correction."
      ]
    },
    {
      "cell_type": "code",
      "metadata": {
        "colab": {
          "base_uri": "https://localhost:8080/"
        },
        "id": "kNPouMxE2Dhd",
        "outputId": "f17845f9-716f-422e-ea92-aa58c7fc9185"
      },
      "source": [
        "\n",
        "#https://stackoverflow.com/questions/34133939/is-there-any-difference-between-numpy-std-and-excel-stdev-function\n",
        "# Excel's STDEV estimates the sample standard deviation, however, NumPy's std estimates the population standard deviation by default, it operates like Excel's STDEVP). In order for NumPy's std function to act like Excel's STDEV, pass in the value ddof=1:\n",
        "# The following is an example of STDEV.S function\n",
        "import numpy \n",
        "numpy.std([5,4,3,2,1], ddof=1)\n",
        "#This enumerates the standard deviation, by utilising the sample variance whereby one divides by n-1 rather than n."
      ],
      "execution_count": null,
      "outputs": [
        {
          "output_type": "execute_result",
          "data": {
            "text/plain": [
              "1.5811388300841898"
            ]
          },
          "metadata": {
            "tags": []
          },
          "execution_count": 2
        }
      ]
    },
    {
      "cell_type": "code",
      "metadata": {
        "colab": {
          "base_uri": "https://localhost:8080/"
        },
        "id": "4s2BBrFI2Iy8",
        "outputId": "166a49ba-62b0-49dc-bcbf-5e7bc154f239"
      },
      "source": [
        "#NumPy's std estimates the population standard deviation by default dividing by n\n",
        "import numpy\n",
        "numpy.std([5,4,3,2,1])"
      ],
      "execution_count": null,
      "outputs": [
        {
          "output_type": "execute_result",
          "data": {
            "text/plain": [
              "1.4142135623730951"
            ]
          },
          "metadata": {
            "tags": []
          },
          "execution_count": 3
        }
      ]
    },
    {
      "cell_type": "code",
      "metadata": {
        "colab": {
          "base_uri": "https://localhost:8080/"
        },
        "id": "Pztqqi1n3bxv",
        "outputId": "3fea8d87-be9d-4947-e048-d4eb47e8d9e9"
      },
      "source": [
        "#Adapted from https://stackoverflow.com/questions/64884294/stdev-s-and-stdev-p-using-numpy\n",
        "\n",
        "#use the below to calculate the standard deviation of the sample\n",
        "\n",
        "x = ([4, 4, 6, 7, 8, 9, 3, 4, 5, 6, 7, 8, 9])\n",
        "numpy.array(x).std(ddof=1)\n"
      ],
      "execution_count": null,
      "outputs": [
        {
          "output_type": "execute_result",
          "data": {
            "text/plain": [
              "2.034951016861497"
            ]
          },
          "metadata": {
            "tags": []
          },
          "execution_count": 4
        }
      ]
    },
    {
      "cell_type": "code",
      "metadata": {
        "colab": {
          "base_uri": "https://localhost:8080/"
        },
        "id": "vXKxjEPa_BGx",
        "outputId": "62cd46da-1f95-4a4f-e6b9-ccf22f54bb0e"
      },
      "source": [
        "#use the below to calculate the standard deviation of the sample\n",
        "\n",
        "numpy.sqrt(numpy.sum((x - numpy.mean(x))**2)/(len(x)-1))"
      ],
      "execution_count": null,
      "outputs": [
        {
          "output_type": "execute_result",
          "data": {
            "text/plain": [
              "2.034951016861497"
            ]
          },
          "metadata": {
            "tags": []
          },
          "execution_count": 5
        }
      ]
    },
    {
      "cell_type": "code",
      "metadata": {
        "colab": {
          "base_uri": "https://localhost:8080/"
        },
        "id": "nC89NI4x4XgR",
        "outputId": "5f4fff64-d50f-48af-fd64-be8f9d7743a2"
      },
      "source": [
        "#Adapted from https://stackoverflow.com/questions/64884294/stdev-s-and-stdev-p-using-numpy\n",
        "\n",
        "#use the below to calculate the standard deviation of a population\n",
        "\n",
        "\n",
        "numpy.array(x).std\n",
        "\n",
        "\n",
        "3.060788"
      ],
      "execution_count": null,
      "outputs": [
        {
          "output_type": "execute_result",
          "data": {
            "text/plain": [
              "3.060788"
            ]
          },
          "metadata": {
            "tags": []
          },
          "execution_count": 6
        }
      ]
    },
    {
      "cell_type": "code",
      "metadata": {
        "colab": {
          "base_uri": "https://localhost:8080/"
        },
        "id": "6o4evSugDRLu",
        "outputId": "a4c6db5d-d493-4384-a698-a2230e838dc4"
      },
      "source": [
        "numpy.sqrt(numpy.sum((x - numpy.mean(x))**2)/(len(x)))"
      ],
      "execution_count": null,
      "outputs": [
        {
          "output_type": "execute_result",
          "data": {
            "text/plain": [
              "1.9551176964828976"
            ]
          },
          "metadata": {
            "tags": []
          },
          "execution_count": 7
        }
      ]
    }
  ]
}