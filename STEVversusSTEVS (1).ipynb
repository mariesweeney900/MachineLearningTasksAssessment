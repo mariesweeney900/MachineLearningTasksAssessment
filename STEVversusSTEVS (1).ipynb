{
  "nbformat": 4,
  "nbformat_minor": 0,
  "metadata": {
    "colab": {
      "name": "STEVversusSTEVS.ipynb",
      "provenance": []
    },
    "kernelspec": {
      "name": "python3",
      "display_name": "Python 3"
    }
  },
  "cells": [
    {
      "cell_type": "markdown",
      "metadata": {
        "id": "KY-BwZP8uuW4"
      },
      "source": [
        ""
      ]
    },
    {
      "cell_type": "code",
      "metadata": {
        "id": "2gjam9o6uBco"
      },
      "source": [
        "\"\"\"SDEV_versusSDEVS.ipynb\r\n",
        "\r\n",
        "\r\n",
        "\r\n",
        "Adapted from http://mathbitsnotebook.com/Algebra1/StatisticsData/STPopSample.html\r\n",
        "and https://likegeeks.com/python-standard-deviation/\r\n",
        " \r\n",
        " \r\n",
        "In assessing statistical data, it is pertinent to differentiate between\r\n",
        "\"population\" data and \"sample\" data. A population data set incorporates all members of a certain grouping, i.e all values, or count (n). Every person living in the US is an example. A sample data set includes a part, or a part of, the population. The proportion of a sample is always less than the proportion of the population from the selection, i.e (n - 1). It can be said that this would represent some of the people living in the US.\r\n",
        " \r\n",
        " \r\n",
        "When one is calculating standard deviation, the difference being noted between the sample and the population is paramount as for example utilising only a sample of the data may lead one to make generalisations in error regarding the full population set.\r\n",
        " \r\n",
        "The standard deviation permits the measurement of how spread out numbers in a data set are and how apart from the mean value they are.\r\n",
        "Adapted from http://mathbitsnotebook.com/Algebra1/StatisticsData/STPopSample.html\r\n",
        "and https://likegeeks.com/python-standard-deviation/\r\n",
        " \r\n",
        " \r\n",
        "In assessing statistical data, it is pertinent to differentiate between\r\n",
        "\"population\" data and \"sample\" data. A population data set incorporates all members of a certain grouping, i.e all values, or count (n). Every person living in the US is an example. A sample data set includes a part, or a part of, the population. The proportion of a sample is always less than the proportion of the population from the selection, i.e (n - 1). It can be said that this would represent some of the people living in the US.\r\n",
        " \r\n",
        " \r\n",
        "When one is calculating standard deviation, the difference being noted between the sample and the population is paramount as for example utilising only a sample of the data may lead one to make generalisations in error regarding the full population set. \r\n",
        " \r\n",
        "The standard deviation permits the measurement of how spread out numbers in a data set are and how apart from the mean value they are.\r\n",
        "\r\n",
        "Adapted from https://stackoverflow.com/questions/34133939/is-there-any-difference-between-numpy-std-and-excel-stdev-function\r\n",
        "STDEV estimates the population's standard deviation using the sample information, but STDEVP estimates the sample's standard deviation, which is the population's if it represents the entire population. In python3.4 the statistics module as part of the standard library. Statistics.stdev() is used for the sample standard deviation and statistics.pstdev() is used for the population standard deviation.\r\n",
        "\r\n",
        "Adapted from https://www.exceltip.com/statistical-formulas/how-to-use-excel-stdev-p-function.html\r\n",
        "STDEV.P function incorporates entire data, and certain points may skew the result sof the standard tandard deviation, also the standard deviation will be taken everyone in data, including minorities, this is known as Biased Analysis. This is why this standard deviation is identified to use only when an analysis is non-destructive. The STDEV.S or STDEV function is used on a reduced sample of the full population, and we subtract one from the denominator, also known as the number of samples arguments. This is known as non-biassed analysis of standard deviation. This is utilised when an analysis is destructive.\r\n",
        "\r\n",
        "https://www.exceltip.com/statistical-formulas/how-to-use-the-stdev-function-in-excel.html\r\n",
        "Show how to display STDEV manually in Excel and variation of STDEV.S and STDEV.P function\r\n",
        "Excel offers two functions to calculate in standard deviation. STDEV.P and STDEV.S.\r\n",
        "\r\n",
        "STDEV.P is used to show standard deviation, when you have chosen whole population data.\r\n",
        "\r\n",
        "When you have a sample of the larger data, you should adopt the STDEV.S function. When adopted, it is more accurate than standard deviation of population (STDEV.P).\r\n",
        "\r\n",
        "If you estimate standard deviation on same data, using STDEV.S and STDEV.P. The STDEV.S will produce a larger standard deviation. The standard deviation of a sample calculates probability of error and subtracts 1 denominator or number of observations. This is known as Bessel’s Correction.\r\n",
        "\"\"\"\r\n"
      ],
      "execution_count": null,
      "outputs": []
    },
    {
      "cell_type": "code",
      "metadata": {
        "colab": {
          "base_uri": "https://localhost:8080/"
        },
        "id": "usiQToV0uKCH",
        "outputId": "48fe6a4f-a80b-4615-8705-8763d1c17803"
      },
      "source": [
        "#https://stackoverflow.com/questions/34133939/is-there-any-difference-between-numpy-std-and-excel-stdev-function\r\n",
        "# Excel's STDEV estimates the sample standard deviation, however, NumPy's std estimates the population standard deviation by default, it operates like Excel's STDEVP). In order for NumPy's std function to act like Excel's STDEV, pass in the value ddof=1:\r\n",
        "# The following is an example of STDEV.S function\r\n",
        "#This enumerates the standard deviation, by utilising the sample variance whereby one divides by n-1 rather than n.\r\n",
        "import numpy \r\n",
        "numpy.std([5,4,3,2,1], ddof=1)"
      ],
      "execution_count": 1,
      "outputs": [
        {
          "output_type": "execute_result",
          "data": {
            "text/plain": [
              "1.5811388300841898"
            ]
          },
          "metadata": {
            "tags": []
          },
          "execution_count": 1
        }
      ]
    },
    {
      "cell_type": "code",
      "metadata": {
        "colab": {
          "base_uri": "https://localhost:8080/"
        },
        "id": "cMUHLZQwuWbT",
        "outputId": "96ac2ffb-aacd-4c11-d2c9-6dffe67b7be8"
      },
      "source": [
        "#NumPy's std estimates the population standard deviation by default dividing by n\r\n",
        "import numpy\r\n",
        "numpy.std([5,4,3,2,1])"
      ],
      "execution_count": 2,
      "outputs": [
        {
          "output_type": "execute_result",
          "data": {
            "text/plain": [
              "1.4142135623730951"
            ]
          },
          "metadata": {
            "tags": []
          },
          "execution_count": 2
        }
      ]
    },
    {
      "cell_type": "code",
      "metadata": {
        "colab": {
          "base_uri": "https://localhost:8080/"
        },
        "id": "9oiJUEVWubb1",
        "outputId": "6d665dba-ccbc-4919-9ae8-7f959a19fa0c"
      },
      "source": [
        "#Adapted from https://stackoverflow.com/questions/64884294/stdev-s-and-stdev-p-using-numpy\r\n",
        "\r\n",
        "#use the below to calculate the standard deviation of the sample\r\n",
        "\r\n",
        "x = ([4, 4, 6, 7, 8, 9, 3, 4, 5, 6, 7, 8, 9])\r\n",
        "numpy.array(x).std(ddof=1)"
      ],
      "execution_count": 3,
      "outputs": [
        {
          "output_type": "execute_result",
          "data": {
            "text/plain": [
              "2.034951016861497"
            ]
          },
          "metadata": {
            "tags": []
          },
          "execution_count": 3
        }
      ]
    },
    {
      "cell_type": "code",
      "metadata": {
        "colab": {
          "base_uri": "https://localhost:8080/"
        },
        "id": "r0UvOMJzugU0",
        "outputId": "2e01c42d-c6de-47dc-e511-b4081ff193fe"
      },
      "source": [
        "#use the below to calculate the standard deviation of the sample\r\n",
        "\r\n",
        "numpy.sqrt(numpy.sum((x - numpy.mean(x))**2)/(len(x)-1))\r\n",
        "\r\n",
        "\r\n"
      ],
      "execution_count": 4,
      "outputs": [
        {
          "output_type": "execute_result",
          "data": {
            "text/plain": [
              "2.034951016861497"
            ]
          },
          "metadata": {
            "tags": []
          },
          "execution_count": 4
        }
      ]
    },
    {
      "cell_type": "code",
      "metadata": {
        "colab": {
          "base_uri": "https://localhost:8080/"
        },
        "id": "ttRep7B6ulgA",
        "outputId": "8d6be83a-6206-45fd-fe5a-5d06e55345e5"
      },
      "source": [
        "#Adapted from https://stackoverflow.com/questions/64884294/stdev-s-and-stdev-p-using-numpy\r\n",
        "#use the below to calculate the standard deviation of a population\r\n",
        "\r\n",
        "\r\n",
        "numpy.array(x).std()\r\n",
        "\r\n",
        "\r\n"
      ],
      "execution_count": 9,
      "outputs": [
        {
          "output_type": "execute_result",
          "data": {
            "text/plain": [
              "1.9551176964828976"
            ]
          },
          "metadata": {
            "tags": []
          },
          "execution_count": 9
        }
      ]
    },
    {
      "cell_type": "code",
      "metadata": {
        "colab": {
          "base_uri": "https://localhost:8080/"
        },
        "id": "9bYQSMmXvVwX",
        "outputId": "f444c307-3ad3-4929-fde4-b78ffa80ce7b"
      },
      "source": [
        "numpy.sqrt(numpy.sum((x - numpy.mean(x))**2)/(len(x)))"
      ],
      "execution_count": 8,
      "outputs": [
        {
          "output_type": "execute_result",
          "data": {
            "text/plain": [
              "1.9551176964828976"
            ]
          },
          "metadata": {
            "tags": []
          },
          "execution_count": 8
        }
      ]
    }
  ]
}