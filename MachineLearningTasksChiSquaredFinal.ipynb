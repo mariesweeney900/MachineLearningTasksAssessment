{
  "nbformat": 4,
  "nbformat_minor": 0,
  "metadata": {
    "colab": {
      "name": "MachineLearningTasksChiSquaredFinal.ipynb",
      "provenance": [],
      "authorship_tag": "ABX9TyMd5eIzchOB0Yd+XZB0Q5Hi",
      "include_colab_link": true
    },
    "kernelspec": {
      "name": "python3",
      "display_name": "Python 3"
    }
  },
  "cells": [
    {
      "cell_type": "markdown",
      "metadata": {
        "id": "view-in-github",
        "colab_type": "text"
      },
      "source": [
        "<a href=\"https://colab.research.google.com/github/mariesweeney900/MachineLearningAssessment/blob/main/MachineLearningTasksChiSquaredFinal.ipynb\" target=\"_parent\"><img src=\"https://colab.research.google.com/assets/colab-badge.svg\" alt=\"Open In Colab\"/></a>"
      ]
    },
    {
      "cell_type": "code",
      "metadata": {
        "id": "k63OXqS2zHSt"
      },
      "source": [
        "import numpy as np \r\n",
        "import pandas as pd\r\n",
        "import scipy\r\n",
        "\r\n",
        "import seaborn as sns\r\n",
        "from matplotlib import pyplot as plt\r\n",
        "import random"
      ],
      "execution_count": 11,
      "outputs": []
    },
    {
      "cell_type": "code",
      "metadata": {
        "colab": {
          "base_uri": "https://localhost:8080/",
          "height": 142
        },
        "id": "1zgpdn9nztqH",
        "outputId": "5481fd55-2e15-4949-84d1-d35790ea7a58"
      },
      "source": [
        "import pandas as pd\r\n",
        "\r\n",
        "data = {'Collar': ['White Collar', 'Blue Collar', 'No Collar'],\r\n",
        "        'A': [90, 30, 30],\r\n",
        "        'B': [60, 50, 40], \r\n",
        "        'C': [104, 51, 45],\r\n",
        "        'D': [95, 20, 35]\r\n",
        "        }\r\n",
        "\r\n",
        "df = pd.DataFrame(data)\r\n",
        "df"
      ],
      "execution_count": 12,
      "outputs": [
        {
          "output_type": "execute_result",
          "data": {
            "text/html": [
              "<div>\n",
              "<style scoped>\n",
              "    .dataframe tbody tr th:only-of-type {\n",
              "        vertical-align: middle;\n",
              "    }\n",
              "\n",
              "    .dataframe tbody tr th {\n",
              "        vertical-align: top;\n",
              "    }\n",
              "\n",
              "    .dataframe thead th {\n",
              "        text-align: right;\n",
              "    }\n",
              "</style>\n",
              "<table border=\"1\" class=\"dataframe\">\n",
              "  <thead>\n",
              "    <tr style=\"text-align: right;\">\n",
              "      <th></th>\n",
              "      <th>Collar</th>\n",
              "      <th>A</th>\n",
              "      <th>B</th>\n",
              "      <th>C</th>\n",
              "      <th>D</th>\n",
              "    </tr>\n",
              "  </thead>\n",
              "  <tbody>\n",
              "    <tr>\n",
              "      <th>0</th>\n",
              "      <td>White Collar</td>\n",
              "      <td>90</td>\n",
              "      <td>60</td>\n",
              "      <td>104</td>\n",
              "      <td>95</td>\n",
              "    </tr>\n",
              "    <tr>\n",
              "      <th>1</th>\n",
              "      <td>Blue Collar</td>\n",
              "      <td>30</td>\n",
              "      <td>50</td>\n",
              "      <td>51</td>\n",
              "      <td>20</td>\n",
              "    </tr>\n",
              "    <tr>\n",
              "      <th>2</th>\n",
              "      <td>No Collar</td>\n",
              "      <td>30</td>\n",
              "      <td>40</td>\n",
              "      <td>45</td>\n",
              "      <td>35</td>\n",
              "    </tr>\n",
              "  </tbody>\n",
              "</table>\n",
              "</div>"
            ],
            "text/plain": [
              "         Collar   A   B    C   D\n",
              "0  White Collar  90  60  104  95\n",
              "1   Blue Collar  30  50   51  20\n",
              "2     No Collar  30  40   45  35"
            ]
          },
          "metadata": {
            "tags": []
          },
          "execution_count": 12
        }
      ]
    },
    {
      "cell_type": "code",
      "metadata": {
        "id": "3cARikpmJav_",
        "colab": {
          "base_uri": "https://localhost:8080/",
          "height": 173
        },
        "outputId": "36da2fae-7e12-4bc3-96be-4b46265b2063"
      },
      "source": [
        "#https://stackoverflow.com/questions/53414960/how-do-i-create-a-sum-row-and-sum-column-in-pandas\n",
        "df.append(df.sum().rename('Total')).assign(Total=lambda d: d.sum(1))"
      ],
      "execution_count": 13,
      "outputs": [
        {
          "output_type": "execute_result",
          "data": {
            "text/html": [
              "<div>\n",
              "<style scoped>\n",
              "    .dataframe tbody tr th:only-of-type {\n",
              "        vertical-align: middle;\n",
              "    }\n",
              "\n",
              "    .dataframe tbody tr th {\n",
              "        vertical-align: top;\n",
              "    }\n",
              "\n",
              "    .dataframe thead th {\n",
              "        text-align: right;\n",
              "    }\n",
              "</style>\n",
              "<table border=\"1\" class=\"dataframe\">\n",
              "  <thead>\n",
              "    <tr style=\"text-align: right;\">\n",
              "      <th></th>\n",
              "      <th>Collar</th>\n",
              "      <th>A</th>\n",
              "      <th>B</th>\n",
              "      <th>C</th>\n",
              "      <th>D</th>\n",
              "      <th>Total</th>\n",
              "    </tr>\n",
              "  </thead>\n",
              "  <tbody>\n",
              "    <tr>\n",
              "      <th>0</th>\n",
              "      <td>White Collar</td>\n",
              "      <td>90</td>\n",
              "      <td>60</td>\n",
              "      <td>104</td>\n",
              "      <td>95</td>\n",
              "      <td>349</td>\n",
              "    </tr>\n",
              "    <tr>\n",
              "      <th>1</th>\n",
              "      <td>Blue Collar</td>\n",
              "      <td>30</td>\n",
              "      <td>50</td>\n",
              "      <td>51</td>\n",
              "      <td>20</td>\n",
              "      <td>151</td>\n",
              "    </tr>\n",
              "    <tr>\n",
              "      <th>2</th>\n",
              "      <td>No Collar</td>\n",
              "      <td>30</td>\n",
              "      <td>40</td>\n",
              "      <td>45</td>\n",
              "      <td>35</td>\n",
              "      <td>150</td>\n",
              "    </tr>\n",
              "    <tr>\n",
              "      <th>Total</th>\n",
              "      <td>White CollarBlue CollarNo Collar</td>\n",
              "      <td>150</td>\n",
              "      <td>150</td>\n",
              "      <td>200</td>\n",
              "      <td>150</td>\n",
              "      <td>650</td>\n",
              "    </tr>\n",
              "  </tbody>\n",
              "</table>\n",
              "</div>"
            ],
            "text/plain": [
              "                                 Collar    A    B    C    D  Total\n",
              "0                          White Collar   90   60  104   95    349\n",
              "1                           Blue Collar   30   50   51   20    151\n",
              "2                             No Collar   30   40   45   35    150\n",
              "Total  White CollarBlue CollarNo Collar  150  150  200  150    650"
            ]
          },
          "metadata": {
            "tags": []
          },
          "execution_count": 13
        }
      ]
    },
    {
      "cell_type": "code",
      "metadata": {
        "colab": {
          "base_uri": "https://localhost:8080/",
          "height": 173
        },
        "id": "FwUrSlS00Fo7",
        "outputId": "6481d538-8f9a-4f1a-9bb6-47c84dced81e"
      },
      "source": [
        "# set treatments column as index\r\n",
        "dfchi = df.set_index('Collar')\r\n",
        "dfchi.head()"
      ],
      "execution_count": 14,
      "outputs": [
        {
          "output_type": "execute_result",
          "data": {
            "text/html": [
              "<div>\n",
              "<style scoped>\n",
              "    .dataframe tbody tr th:only-of-type {\n",
              "        vertical-align: middle;\n",
              "    }\n",
              "\n",
              "    .dataframe tbody tr th {\n",
              "        vertical-align: top;\n",
              "    }\n",
              "\n",
              "    .dataframe thead th {\n",
              "        text-align: right;\n",
              "    }\n",
              "</style>\n",
              "<table border=\"1\" class=\"dataframe\">\n",
              "  <thead>\n",
              "    <tr style=\"text-align: right;\">\n",
              "      <th></th>\n",
              "      <th>A</th>\n",
              "      <th>B</th>\n",
              "      <th>C</th>\n",
              "      <th>D</th>\n",
              "    </tr>\n",
              "    <tr>\n",
              "      <th>Collar</th>\n",
              "      <th></th>\n",
              "      <th></th>\n",
              "      <th></th>\n",
              "      <th></th>\n",
              "    </tr>\n",
              "  </thead>\n",
              "  <tbody>\n",
              "    <tr>\n",
              "      <th>White Collar</th>\n",
              "      <td>90</td>\n",
              "      <td>60</td>\n",
              "      <td>104</td>\n",
              "      <td>95</td>\n",
              "    </tr>\n",
              "    <tr>\n",
              "      <th>Blue Collar</th>\n",
              "      <td>30</td>\n",
              "      <td>50</td>\n",
              "      <td>51</td>\n",
              "      <td>20</td>\n",
              "    </tr>\n",
              "    <tr>\n",
              "      <th>No Collar</th>\n",
              "      <td>30</td>\n",
              "      <td>40</td>\n",
              "      <td>45</td>\n",
              "      <td>35</td>\n",
              "    </tr>\n",
              "  </tbody>\n",
              "</table>\n",
              "</div>"
            ],
            "text/plain": [
              "               A   B    C   D\n",
              "Collar                       \n",
              "White Collar  90  60  104  95\n",
              "Blue Collar   30  50   51  20\n",
              "No Collar     30  40   45  35"
            ]
          },
          "metadata": {
            "tags": []
          },
          "execution_count": 14
        }
      ]
    },
    {
      "cell_type": "code",
      "metadata": {
        "colab": {
          "base_uri": "https://localhost:8080/"
        },
        "id": "H5-oaqmx0VBN",
        "outputId": "7e30314f-f256-45ff-d414-05f7db4dc932"
      },
      "source": [
        "from scipy.stats import chi2_contingency\r\n",
        "\r\n",
        "\r\n",
        "chi2_contingency(dfchi)"
      ],
      "execution_count": 15,
      "outputs": [
        {
          "output_type": "execute_result",
          "data": {
            "text/plain": [
              "(24.5712028585826,\n",
              " 0.0004098425861096696,\n",
              " 6,\n",
              " array([[ 80.53846154,  80.53846154, 107.38461538,  80.53846154],\n",
              "        [ 34.84615385,  34.84615385,  46.46153846,  34.84615385],\n",
              "        [ 34.61538462,  34.61538462,  46.15384615,  34.61538462]]))"
            ]
          },
          "metadata": {
            "tags": []
          },
          "execution_count": 15
        }
      ]
    },
    {
      "cell_type": "code",
      "metadata": {
        "colab": {
          "base_uri": "https://localhost:8080/"
        },
        "id": "0G4tsC-r0et7",
        "outputId": "2ef95e64-8f5e-4791-d924-b20e5d88faf9"
      },
      "source": [
        "pvalue=chi2_contingency(dfchi)[1]\r\n",
        "pvalue"
      ],
      "execution_count": 16,
      "outputs": [
        {
          "output_type": "execute_result",
          "data": {
            "text/plain": [
              "0.0004098425861096696"
            ]
          },
          "metadata": {
            "tags": []
          },
          "execution_count": 16
        }
      ]
    }
  ]
}